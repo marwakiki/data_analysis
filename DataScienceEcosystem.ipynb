{
 "cells": [
  {
   "cell_type": "markdown",
   "id": "c322d131",
   "metadata": {},
   "source": [
    "<H1> Data Science Tools and Ecosystem</H1>"
   ]
  },
  {
   "cell_type": "markdown",
   "id": "b6e36662",
   "metadata": {},
   "source": [
    "In this notebook, Data Science Tools and Ecosystem are summarized."
   ]
  },
  {
   "cell_type": "markdown",
   "id": "1e798748",
   "metadata": {},
   "source": [
    "Some of the popular languages that Data Scientists use are:"
   ]
  },
  {
   "cell_type": "markdown",
   "id": "21083801",
   "metadata": {},
   "source": [
    "1- SQL\n",
    "\n",
    "2- PYthon\n",
    "\n",
    "3- R"
   ]
  },
  {
   "cell_type": "markdown",
   "id": "a54bcd27",
   "metadata": {},
   "source": [
    "Some of the commonly used libraries used by Data Scientists include:"
   ]
  },
  {
   "cell_type": "markdown",
   "id": "af0273f6",
   "metadata": {},
   "source": [
    "1- Numpy\n",
    "\n",
    "2- Pandas\n",
    "\n",
    "3-Matplotlib"
   ]
  },
  {
   "cell_type": "markdown",
   "id": "5d13dbe5",
   "metadata": {},
   "source": [
    "Data Science Tools"
   ]
  },
  {
   "cell_type": "markdown",
   "id": "7cf53f05",
   "metadata": {},
   "source": [
    "| Tool Name |\n",
    "| --- | \n",
    "| Python | \n",
    "| R |\n",
    "| Jupyter Notebook |"
   ]
  },
  {
   "cell_type": "markdown",
   "id": "127e7a99",
   "metadata": {},
   "source": [
    "<H3>Below are a few examples of evaluating arithmetic expressions in Python</H3>"
   ]
  },
  {
   "cell_type": "markdown",
   "id": "10438aba",
   "metadata": {},
   "source": [
    "This a simple arithmetic expression to mutiply then add integers."
   ]
  },
  {
   "cell_type": "code",
   "execution_count": 3,
   "id": "a2d9a3b2",
   "metadata": {},
   "outputs": [
    {
     "data": {
      "text/plain": [
       "17"
      ]
     },
     "execution_count": 3,
     "metadata": {},
     "output_type": "execute_result"
    }
   ],
   "source": [
    "(3*4)+5"
   ]
  },
  {
   "cell_type": "markdown",
   "id": "a7c7bf3d",
   "metadata": {},
   "source": [
    "This will convert 200 minutes to hours by diving by 60"
   ]
  },
  {
   "cell_type": "code",
   "execution_count": 4,
   "id": "fe9a08f3",
   "metadata": {},
   "outputs": [
    {
     "data": {
      "text/plain": [
       "3.3333333333333335"
      ]
     },
     "execution_count": 4,
     "metadata": {},
     "output_type": "execute_result"
    }
   ],
   "source": [
    "200/60"
   ]
  },
  {
   "cell_type": "markdown",
   "id": "ba1fa74a",
   "metadata": {},
   "source": [
    "<B>Objectives:</B>\n",
    "List popular languages for Data Science\n",
    "\n",
    "- SQL\n",
    "- Python\n",
    "- R"
   ]
  },
  {
   "cell_type": "markdown",
   "id": "1b7b642c",
   "metadata": {},
   "source": [
    "<H2>Author</H2>"
   ]
  },
  {
   "cell_type": "markdown",
   "id": "0369436b",
   "metadata": {},
   "source": [
    "Marwa Kiki"
   ]
  },
  {
   "cell_type": "code",
   "execution_count": null,
   "id": "c0d22bf2",
   "metadata": {},
   "outputs": [],
   "source": []
  }
 ],
 "metadata": {
  "kernelspec": {
   "display_name": "Python 3 (ipykernel)",
   "language": "python",
   "name": "python3"
  },
  "language_info": {
   "codemirror_mode": {
    "name": "ipython",
    "version": 3
   },
   "file_extension": ".py",
   "mimetype": "text/x-python",
   "name": "python",
   "nbconvert_exporter": "python",
   "pygments_lexer": "ipython3",
   "version": "3.9.12"
  }
 },
 "nbformat": 4,
 "nbformat_minor": 5
}
